{
 "cells": [
  {
   "cell_type": "code",
   "execution_count": 27,
   "metadata": {},
   "outputs": [],
   "source": [
    "import numpy as np\n",
    "import pandas as pd\n",
    "import os\n",
    "from sklearn.feature_extraction.text import CountVectorizer, TfidfVectorizer\n",
    "from sklearn.linear_model import LogisticRegression\n",
    "from sklearn.naive_bayes import MultinomialNB\n",
    "from sklearn.svm import SVC\n",
    "from sklearn.tree import DecisionTreeClassifier\n",
    "from sklearn.neural_network import MLPClassifier\n",
    "from sklearn.metrics import accuracy_score, confusion_matrix\n",
    "from sklearn.utils import shuffle\n",
    "from sklearn.preprocessing import LabelEncoder"
   ]
  },
  {
   "cell_type": "code",
   "execution_count": 2,
   "metadata": {},
   "outputs": [
    {
     "name": "stdout",
     "output_type": "stream",
     "text": [
      "4081 4081\n"
     ]
    }
   ],
   "source": [
    "#read dataset\n",
    "dirs = os.listdir('Data')\n",
    "data = []\n",
    "labels = []\n",
    "\n",
    "for d in dirs:\n",
    "    files = os.listdir('Data/'+d)\n",
    "    for f in files:\n",
    "        data.append(open('Data/'+d+'/'+f, encoding='utf-8').read())\n",
    "        labels.append(d)\n",
    "\n",
    "print(len(data), len(labels))"
   ]
  },
  {
   "cell_type": "code",
   "execution_count": 17,
   "metadata": {},
   "outputs": [],
   "source": [
    "le = LabelEncoder()\n",
    "Y = le.fit_transform(labels)\n",
    "\n",
    "df = pd.DataFrame(columns=['text', 'label'])\n",
    "df.text = data\n",
    "df.label = Y\n",
    "df = shuffle(df)\n",
    "\n",
    "Y = df.label.values\n",
    "data = df.text.values\n",
    "del df"
   ]
  },
  {
   "cell_type": "code",
   "execution_count": 18,
   "metadata": {},
   "outputs": [],
   "source": [
    "vec = CountVectorizer(ngram_range=(1, 2), max_features=35000)\n",
    "X = vec.fit_transform(data)"
   ]
  },
  {
   "cell_type": "code",
   "execution_count": 19,
   "metadata": {},
   "outputs": [],
   "source": [
    "X_train = X[:3600]\n",
    "Y_train = Y[:3600]\n",
    "X_test = X[3500:]\n",
    "Y_test = Y[3500:]"
   ]
  },
  {
   "cell_type": "code",
   "execution_count": 20,
   "metadata": {},
   "outputs": [
    {
     "name": "stdout",
     "output_type": "stream",
     "text": [
      "Naive Bayes: 0.1927710843373494\n"
     ]
    }
   ],
   "source": [
    "#Naive Bayes\n",
    "\n",
    "clf = MultinomialNB()\n",
    "clf.fit(X_train, Y_train)\n",
    "\n",
    "pred = clf.predict(X_test)\n",
    "acc = accuracy_score(Y_test, pred)\n",
    "\n",
    "print('Naive Bayes:', acc)"
   ]
  },
  {
   "cell_type": "code",
   "execution_count": 21,
   "metadata": {},
   "outputs": [
    {
     "name": "stdout",
     "output_type": "stream",
     "text": [
      "LR: 0.2134251290877797\n"
     ]
    }
   ],
   "source": [
    "#LR\n",
    "\n",
    "clf = LogisticRegression()\n",
    "clf.fit(X_train, Y_train)\n",
    "\n",
    "pred = clf.predict(X_test)\n",
    "acc = accuracy_score(Y_test, pred)\n",
    "\n",
    "print('LR:', acc)"
   ]
  },
  {
   "cell_type": "code",
   "execution_count": 22,
   "metadata": {},
   "outputs": [
    {
     "name": "stdout",
     "output_type": "stream",
     "text": [
      "SVM: 0.19793459552495696\n"
     ]
    }
   ],
   "source": [
    "#SVM\n",
    "\n",
    "clf = SVC(kernel='linear')\n",
    "clf.fit(X_train, Y_train)\n",
    "\n",
    "pred = clf.predict(X_test)\n",
    "acc = accuracy_score(Y_test, pred)\n",
    "\n",
    "print('SVM:', acc)"
   ]
  },
  {
   "cell_type": "code",
   "execution_count": 23,
   "metadata": {},
   "outputs": [
    {
     "name": "stdout",
     "output_type": "stream",
     "text": [
      "Decision Tree: 0.11359724612736662\n"
     ]
    }
   ],
   "source": [
    "#Dicision Tree\n",
    "\n",
    "clf = DecisionTreeClassifier(max_depth=16)\n",
    "clf.fit(X_train, Y_train)\n",
    "\n",
    "pred = clf.predict(X_test)\n",
    "acc = accuracy_score(Y_test, pred)\n",
    "\n",
    "print('Decision Tree:', acc)"
   ]
  },
  {
   "cell_type": "code",
   "execution_count": 24,
   "metadata": {},
   "outputs": [
    {
     "name": "stdout",
     "output_type": "stream",
     "text": [
      "MLP: 0.20654044750430292\n"
     ]
    }
   ],
   "source": [
    "#MLP\n",
    "\n",
    "clf = MLPClassifier(hidden_layer_sizes=(10,))\n",
    "clf.fit(X_train, Y_train)\n",
    "\n",
    "pred = clf.predict(X_test)\n",
    "acc = accuracy_score(Y_test, pred)\n",
    "\n",
    "print('MLP:', acc)"
   ]
  }
 ],
 "metadata": {
  "kernelspec": {
   "display_name": "Python 3",
   "language": "python",
   "name": "python3"
  },
  "language_info": {
   "codemirror_mode": {
    "name": "ipython",
    "version": 3
   },
   "file_extension": ".py",
   "mimetype": "text/x-python",
   "name": "python",
   "nbconvert_exporter": "python",
   "pygments_lexer": "ipython3",
   "version": "3.6.0"
  }
 },
 "nbformat": 4,
 "nbformat_minor": 2
}
