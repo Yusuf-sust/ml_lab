{
  "nbformat": 4,
  "nbformat_minor": 0,
  "metadata": {
    "colab": {
      "name": "HandWrittenCharRecognition.ipynb",
      "version": "0.3.2",
      "views": {},
      "default_view": {},
      "provenance": [],
      "collapsed_sections": []
    },
    "kernelspec": {
      "display_name": "Python 3",
      "language": "python",
      "name": "python3"
    },
    "accelerator": "GPU"
  },
  "cells": [
    {
      "metadata": {
        "id": "dc13Cx4BLnpF",
        "colab_type": "code",
        "colab": {
          "autoexec": {
            "startup": false,
            "wait_interval": 0
          },
          "output_extras": [
            {
              "item_id": 1
            }
          ],
          "base_uri": "https://localhost:8080/",
          "height": 34
        },
        "outputId": "1a0644ca-4a63-46c6-dddc-34b69973b321",
        "executionInfo": {
          "status": "ok",
          "timestamp": 1522405215133,
          "user_tz": -360,
          "elapsed": 8130,
          "user": {
            "displayName": "Limon M",
            "photoUrl": "https://lh3.googleusercontent.com/a/default-user=s128",
            "userId": "111276869018144947128"
          }
        }
      },
      "cell_type": "code",
      "source": [
        "import pandas as pd\n",
        "import numpy as np\n",
        "from keras.models import Sequential\n",
        "from keras.layers import Conv2D, MaxPooling2D, Flatten, Dense, Dropout, Activation\n",
        "from keras.utils import to_categorical\n",
        "from keras.optimizers import SGD\n",
        "from sklearn.utils import shuffle"
      ],
      "execution_count": 1,
      "outputs": [
        {
          "output_type": "stream",
          "text": [
            "Using TensorFlow backend.\n"
          ],
          "name": "stderr"
        }
      ]
    },
    {
      "metadata": {
        "id": "cmCBBQiMYadb",
        "colab_type": "code",
        "colab": {
          "autoexec": {
            "startup": false,
            "wait_interval": 0
          },
          "output_extras": [
            {
              "item_id": 1
            }
          ],
          "base_uri": "https://localhost:8080/",
          "height": 34
        },
        "outputId": "2351bd3f-3e25-4811-dd86-43d0fe2c281c",
        "executionInfo": {
          "status": "ok",
          "timestamp": 1522410781609,
          "user_tz": -360,
          "elapsed": 15147,
          "user": {
            "displayName": "Limon M",
            "photoUrl": "https://lh3.googleusercontent.com/a/default-user=s128",
            "userId": "111276869018144947128"
          }
        }
      },
      "cell_type": "code",
      "source": [
        "# Install the PyDrive wrapper & import libraries.\n",
        "# This only needs to be done once per notebook.\n",
        "!pip install -U -q PyDrive\n",
        "from pydrive.auth import GoogleAuth\n",
        "from pydrive.drive import GoogleDrive\n",
        "from google.colab import auth\n",
        "from oauth2client.client import GoogleCredentials\n",
        "\n",
        "# Authenticate and create the PyDrive client.\n",
        "# This only needs to be done once per notebook.\n",
        "auth.authenticate_user()\n",
        "gauth = GoogleAuth()\n",
        "gauth.credentials = GoogleCredentials.get_application_default()\n",
        "drive = GoogleDrive(gauth)\n",
        "\n",
        "# Download a file based on its file ID.\n",
        "#\n",
        "# A file ID looks like: laggVyWshwcyP6kEI-y_W3P8D26sz\n",
        "file_id = '17uc0OhmfLfI5P94a8ytlQ42C6PUcBS1t'\n",
        "downloaded = drive.CreateFile({'id': file_id})\n",
        "downloaded.GetContentFile('A_Z_HandwrittenData.csv')\n",
        "\n",
        "print('Done...')"
      ],
      "execution_count": 10,
      "outputs": [
        {
          "output_type": "stream",
          "text": [
            "Done...\n"
          ],
          "name": "stdout"
        }
      ]
    },
    {
      "metadata": {
        "id": "mGcApDhALnpX",
        "colab_type": "code",
        "colab": {
          "autoexec": {
            "startup": false,
            "wait_interval": 0
          },
          "output_extras": [
            {
              "item_id": 1
            }
          ],
          "base_uri": "https://localhost:8080/",
          "height": 253
        },
        "outputId": "acc8e79d-13c2-4bf5-d470-e55f36b65cba",
        "executionInfo": {
          "status": "ok",
          "timestamp": 1522405329323,
          "user_tz": -360,
          "elapsed": 48372,
          "user": {
            "displayName": "Limon M",
            "photoUrl": "https://lh3.googleusercontent.com/a/default-user=s128",
            "userId": "111276869018144947128"
          }
        }
      },
      "cell_type": "code",
      "source": [
        "X = pd.read_csv('A_Z_HandwrittenData.csv', header=0)\n",
        "X = shuffle(X)\n",
        "X.columns = ['label'] + ['Pixel{}'.format(i) for i in range(784)]\n",
        "\n",
        "X.head()"
      ],
      "execution_count": 4,
      "outputs": [
        {
          "output_type": "execute_result",
          "data": {
            "text/html": [
              "<div>\n",
              "<style scoped>\n",
              "    .dataframe tbody tr th:only-of-type {\n",
              "        vertical-align: middle;\n",
              "    }\n",
              "\n",
              "    .dataframe tbody tr th {\n",
              "        vertical-align: top;\n",
              "    }\n",
              "\n",
              "    .dataframe thead th {\n",
              "        text-align: right;\n",
              "    }\n",
              "</style>\n",
              "<table border=\"1\" class=\"dataframe\">\n",
              "  <thead>\n",
              "    <tr style=\"text-align: right;\">\n",
              "      <th></th>\n",
              "      <th>label</th>\n",
              "      <th>Pixel0</th>\n",
              "      <th>Pixel1</th>\n",
              "      <th>Pixel2</th>\n",
              "      <th>Pixel3</th>\n",
              "      <th>Pixel4</th>\n",
              "      <th>Pixel5</th>\n",
              "      <th>Pixel6</th>\n",
              "      <th>Pixel7</th>\n",
              "      <th>Pixel8</th>\n",
              "      <th>...</th>\n",
              "      <th>Pixel774</th>\n",
              "      <th>Pixel775</th>\n",
              "      <th>Pixel776</th>\n",
              "      <th>Pixel777</th>\n",
              "      <th>Pixel778</th>\n",
              "      <th>Pixel779</th>\n",
              "      <th>Pixel780</th>\n",
              "      <th>Pixel781</th>\n",
              "      <th>Pixel782</th>\n",
              "      <th>Pixel783</th>\n",
              "    </tr>\n",
              "  </thead>\n",
              "  <tbody>\n",
              "    <tr>\n",
              "      <th>345128</th>\n",
              "      <td>22</td>\n",
              "      <td>0</td>\n",
              "      <td>0</td>\n",
              "      <td>0</td>\n",
              "      <td>0</td>\n",
              "      <td>0</td>\n",
              "      <td>0</td>\n",
              "      <td>0</td>\n",
              "      <td>0</td>\n",
              "      <td>0</td>\n",
              "      <td>...</td>\n",
              "      <td>0</td>\n",
              "      <td>0</td>\n",
              "      <td>0</td>\n",
              "      <td>0</td>\n",
              "      <td>0</td>\n",
              "      <td>0</td>\n",
              "      <td>0</td>\n",
              "      <td>0</td>\n",
              "      <td>0</td>\n",
              "      <td>0</td>\n",
              "    </tr>\n",
              "    <tr>\n",
              "      <th>102201</th>\n",
              "      <td>11</td>\n",
              "      <td>0</td>\n",
              "      <td>0</td>\n",
              "      <td>0</td>\n",
              "      <td>0</td>\n",
              "      <td>0</td>\n",
              "      <td>0</td>\n",
              "      <td>0</td>\n",
              "      <td>0</td>\n",
              "      <td>0</td>\n",
              "      <td>...</td>\n",
              "      <td>0</td>\n",
              "      <td>0</td>\n",
              "      <td>0</td>\n",
              "      <td>0</td>\n",
              "      <td>0</td>\n",
              "      <td>0</td>\n",
              "      <td>0</td>\n",
              "      <td>0</td>\n",
              "      <td>0</td>\n",
              "      <td>0</td>\n",
              "    </tr>\n",
              "    <tr>\n",
              "      <th>165056</th>\n",
              "      <td>14</td>\n",
              "      <td>0</td>\n",
              "      <td>0</td>\n",
              "      <td>0</td>\n",
              "      <td>0</td>\n",
              "      <td>0</td>\n",
              "      <td>0</td>\n",
              "      <td>0</td>\n",
              "      <td>0</td>\n",
              "      <td>0</td>\n",
              "      <td>...</td>\n",
              "      <td>0</td>\n",
              "      <td>0</td>\n",
              "      <td>0</td>\n",
              "      <td>0</td>\n",
              "      <td>0</td>\n",
              "      <td>0</td>\n",
              "      <td>0</td>\n",
              "      <td>0</td>\n",
              "      <td>0</td>\n",
              "      <td>0</td>\n",
              "    </tr>\n",
              "    <tr>\n",
              "      <th>307640</th>\n",
              "      <td>19</td>\n",
              "      <td>0</td>\n",
              "      <td>0</td>\n",
              "      <td>0</td>\n",
              "      <td>0</td>\n",
              "      <td>0</td>\n",
              "      <td>0</td>\n",
              "      <td>0</td>\n",
              "      <td>0</td>\n",
              "      <td>0</td>\n",
              "      <td>...</td>\n",
              "      <td>0</td>\n",
              "      <td>0</td>\n",
              "      <td>0</td>\n",
              "      <td>0</td>\n",
              "      <td>0</td>\n",
              "      <td>0</td>\n",
              "      <td>0</td>\n",
              "      <td>0</td>\n",
              "      <td>0</td>\n",
              "      <td>0</td>\n",
              "    </tr>\n",
              "    <tr>\n",
              "      <th>9043</th>\n",
              "      <td>0</td>\n",
              "      <td>0</td>\n",
              "      <td>0</td>\n",
              "      <td>0</td>\n",
              "      <td>0</td>\n",
              "      <td>0</td>\n",
              "      <td>0</td>\n",
              "      <td>0</td>\n",
              "      <td>0</td>\n",
              "      <td>0</td>\n",
              "      <td>...</td>\n",
              "      <td>0</td>\n",
              "      <td>0</td>\n",
              "      <td>0</td>\n",
              "      <td>0</td>\n",
              "      <td>0</td>\n",
              "      <td>0</td>\n",
              "      <td>0</td>\n",
              "      <td>0</td>\n",
              "      <td>0</td>\n",
              "      <td>0</td>\n",
              "    </tr>\n",
              "  </tbody>\n",
              "</table>\n",
              "<p>5 rows × 785 columns</p>\n",
              "</div>"
            ],
            "text/plain": [
              "        label  Pixel0  Pixel1  Pixel2  Pixel3  Pixel4  Pixel5  Pixel6  Pixel7  \\\n",
              "345128     22       0       0       0       0       0       0       0       0   \n",
              "102201     11       0       0       0       0       0       0       0       0   \n",
              "165056     14       0       0       0       0       0       0       0       0   \n",
              "307640     19       0       0       0       0       0       0       0       0   \n",
              "9043        0       0       0       0       0       0       0       0       0   \n",
              "\n",
              "        Pixel8    ...     Pixel774  Pixel775  Pixel776  Pixel777  Pixel778  \\\n",
              "345128       0    ...            0         0         0         0         0   \n",
              "102201       0    ...            0         0         0         0         0   \n",
              "165056       0    ...            0         0         0         0         0   \n",
              "307640       0    ...            0         0         0         0         0   \n",
              "9043         0    ...            0         0         0         0         0   \n",
              "\n",
              "        Pixel779  Pixel780  Pixel781  Pixel782  Pixel783  \n",
              "345128         0         0         0         0         0  \n",
              "102201         0         0         0         0         0  \n",
              "165056         0         0         0         0         0  \n",
              "307640         0         0         0         0         0  \n",
              "9043           0         0         0         0         0  \n",
              "\n",
              "[5 rows x 785 columns]"
            ]
          },
          "metadata": {
            "tags": []
          },
          "execution_count": 4
        }
      ]
    },
    {
      "metadata": {
        "id": "JLFbnbwKLnpd",
        "colab_type": "code",
        "colab": {
          "autoexec": {
            "startup": false,
            "wait_interval": 0
          },
          "output_extras": [
            {
              "item_id": 1
            }
          ],
          "base_uri": "https://localhost:8080/",
          "height": 34
        },
        "outputId": "c2e16eaf-e03b-482d-9480-9a599f9d0058",
        "executionInfo": {
          "status": "ok",
          "timestamp": 1522405341457,
          "user_tz": -360,
          "elapsed": 2662,
          "user": {
            "displayName": "Limon M",
            "photoUrl": "https://lh3.googleusercontent.com/a/default-user=s128",
            "userId": "111276869018144947128"
          }
        }
      },
      "cell_type": "code",
      "source": [
        "Y = to_categorical(X.label.values, num_classes=26)\n",
        "X = X[['Pixel{}'.format(i) for i in range(784)]].values\n",
        "X = X.reshape(-1, 28, 28, 1)\n",
        "\n",
        "X_train = X[:300000]\n",
        "X_test = X[300000:]\n",
        "del X\n",
        "\n",
        "Y_train = Y[:300000]\n",
        "Y_test = Y[300000:]\n",
        "del Y\n",
        "\n",
        "print(X_train.shape, Y_train.shape, X_test.shape, Y_test.shape)"
      ],
      "execution_count": 5,
      "outputs": [
        {
          "output_type": "stream",
          "text": [
            "(300000, 28, 28, 1) (300000, 26) (72037, 28, 28, 1) (72037, 26)\n"
          ],
          "name": "stdout"
        }
      ]
    },
    {
      "metadata": {
        "id": "DQEXnVYWLnpk",
        "colab_type": "code",
        "colab": {
          "autoexec": {
            "startup": false,
            "wait_interval": 0
          }
        }
      },
      "cell_type": "code",
      "source": [
        "from scipy.misc import imsave\n",
        "\n",
        "X = X_train.reshape(-1, 28, 28)\n",
        "for i in range(100):\n",
        "    imsave('img/images_{}.jpg'.format(i), X[i, :, :])\n",
        "\n",
        "del X"
      ],
      "execution_count": 0,
      "outputs": []
    },
    {
      "metadata": {
        "id": "lVIchkgXLnpo",
        "colab_type": "code",
        "colab": {
          "autoexec": {
            "startup": false,
            "wait_interval": 0
          },
          "output_extras": [
            {
              "item_id": 1
            }
          ],
          "base_uri": "https://localhost:8080/",
          "height": 510
        },
        "outputId": "710f6d15-6036-4dae-9db5-76d5261ce0c6",
        "executionInfo": {
          "status": "ok",
          "timestamp": 1522410877352,
          "user_tz": -360,
          "elapsed": 971,
          "user": {
            "displayName": "Limon M",
            "photoUrl": "https://lh3.googleusercontent.com/a/default-user=s128",
            "userId": "111276869018144947128"
          }
        }
      },
      "cell_type": "code",
      "source": [
        "#The Model\n",
        "model = Sequential()\n",
        "\n",
        "model.add(Conv2D(32, (3, 3), padding='SAME', activation='relu', input_shape=(28, 28, 1)))\n",
        "model.add(MaxPooling2D(pool_size=(2, 2)))\n",
        "\n",
        "model.add(Conv2D(64, (3, 3), padding='SAME', activation='relu'))\n",
        "model.add(MaxPooling2D(pool_size=(2, 2)))\n",
        "\n",
        "model.add(Conv2D(128, (3, 3), padding='SAME', activation='relu'))\n",
        "model.add(MaxPooling2D(pool_size=(2, 2)))\n",
        "\n",
        "model.add(Flatten())\n",
        "\n",
        "model.add(Dense(100, activation='relu'))\n",
        "model.add(Dropout(0.4))\n",
        "\n",
        "model.add(Dense(26))\n",
        "model.add(Activation(activation=\"softmax\"))\n",
        "\n",
        "model.summary()"
      ],
      "execution_count": 12,
      "outputs": [
        {
          "output_type": "stream",
          "text": [
            "_________________________________________________________________\n",
            "Layer (type)                 Output Shape              Param #   \n",
            "=================================================================\n",
            "conv2d_6 (Conv2D)            (None, 28, 28, 32)        320       \n",
            "_________________________________________________________________\n",
            "max_pooling2d_6 (MaxPooling2 (None, 14, 14, 32)        0         \n",
            "_________________________________________________________________\n",
            "conv2d_7 (Conv2D)            (None, 14, 14, 64)        18496     \n",
            "_________________________________________________________________\n",
            "max_pooling2d_7 (MaxPooling2 (None, 7, 7, 64)          0         \n",
            "_________________________________________________________________\n",
            "conv2d_8 (Conv2D)            (None, 7, 7, 128)         73856     \n",
            "_________________________________________________________________\n",
            "max_pooling2d_8 (MaxPooling2 (None, 3, 3, 128)         0         \n",
            "_________________________________________________________________\n",
            "flatten_3 (Flatten)          (None, 1152)              0         \n",
            "_________________________________________________________________\n",
            "dense_5 (Dense)              (None, 100)               115300    \n",
            "_________________________________________________________________\n",
            "dropout_3 (Dropout)          (None, 100)               0         \n",
            "_________________________________________________________________\n",
            "dense_6 (Dense)              (None, 26)                2626      \n",
            "_________________________________________________________________\n",
            "activation_3 (Activation)    (None, 26)                0         \n",
            "=================================================================\n",
            "Total params: 210,598\n",
            "Trainable params: 210,598\n",
            "Non-trainable params: 0\n",
            "_________________________________________________________________\n"
          ],
          "name": "stdout"
        }
      ]
    },
    {
      "metadata": {
        "id": "hxCNOdT-Lnpz",
        "colab_type": "code",
        "colab": {
          "autoexec": {
            "startup": false,
            "wait_interval": 0
          },
          "output_extras": [
            {
              "item_id": 69
            },
            {
              "item_id": 167
            },
            {
              "item_id": 241
            },
            {
              "item_id": 292
            },
            {
              "item_id": 368
            },
            {
              "item_id": 405
            },
            {
              "item_id": 442
            },
            {
              "item_id": 481
            },
            {
              "item_id": 518
            },
            {
              "item_id": 555
            },
            {
              "item_id": 592
            },
            {
              "item_id": 642
            },
            {
              "item_id": 679
            },
            {
              "item_id": 716
            },
            {
              "item_id": 754
            },
            {
              "item_id": 807
            },
            {
              "item_id": 844
            },
            {
              "item_id": 881
            },
            {
              "item_id": 918
            },
            {
              "item_id": 955
            },
            {
              "item_id": 992
            },
            {
              "item_id": 1030
            },
            {
              "item_id": 1068
            },
            {
              "item_id": 1126
            },
            {
              "item_id": 1163
            },
            {
              "item_id": 1201
            },
            {
              "item_id": 1238
            },
            {
              "item_id": 1276
            },
            {
              "item_id": 1313
            },
            {
              "item_id": 1350
            },
            {
              "item_id": 1387
            },
            {
              "item_id": 1424
            },
            {
              "item_id": 1462
            },
            {
              "item_id": 1509
            },
            {
              "item_id": 1592
            },
            {
              "item_id": 1630
            },
            {
              "item_id": 1667
            },
            {
              "item_id": 1703
            },
            {
              "item_id": 1740
            },
            {
              "item_id": 1778
            },
            {
              "item_id": 1815
            },
            {
              "item_id": 1852
            },
            {
              "item_id": 1890
            },
            {
              "item_id": 1977
            },
            {
              "item_id": 2028
            },
            {
              "item_id": 2083
            },
            {
              "item_id": 2125
            },
            {
              "item_id": 2156
            },
            {
              "item_id": 2193
            },
            {
              "item_id": 2210
            },
            {
              "item_id": 2211
            }
          ],
          "base_uri": "https://localhost:8080/",
          "height": 1771
        },
        "outputId": "f0def2f8-75e7-4db0-d46b-8d00f37057c5",
        "executionInfo": {
          "status": "ok",
          "timestamp": 1522412750208,
          "user_tz": -360,
          "elapsed": 1868652,
          "user": {
            "displayName": "Limon M",
            "photoUrl": "https://lh3.googleusercontent.com/a/default-user=s128",
            "userId": "111276869018144947128"
          }
        }
      },
      "cell_type": "code",
      "source": [
        "batch = 500\n",
        "eps = 50\n",
        "\n",
        "opt = SGD(lr=0.01, decay=1e-5)\n",
        "model.compile(opt, loss='categorical_crossentropy', metrics=['accuracy'])\n",
        "\n",
        "model.fit(X_train, Y_train, batch_size=batch, epochs=eps, validation_data=(X_test, Y_test))"
      ],
      "execution_count": 13,
      "outputs": [
        {
          "output_type": "stream",
          "text": [
            "Train on 300000 samples, validate on 72037 samples\n",
            "Epoch 1/50\n",
            "300000/300000 [==============================] - 37s 125us/step - loss: 0.9581 - acc: 0.7523 - val_loss: 0.1820 - val_acc: 0.9495\n",
            "Epoch 2/50\n",
            " 19000/300000 [>.............................] - ETA: 32s - loss: 0.3875 - acc: 0.8911"
          ],
          "name": "stdout"
        },
        {
          "output_type": "stream",
          "text": [
            "300000/300000 [==============================] - 37s 124us/step - loss: 0.3082 - acc: 0.9134 - val_loss: 0.1312 - val_acc: 0.9649\n",
            "Epoch 3/50\n",
            "113500/300000 [==========>...................] - ETA: 21s - loss: 0.2432 - acc: 0.9324"
          ],
          "name": "stdout"
        },
        {
          "output_type": "stream",
          "text": [
            "300000/300000 [==============================] - 37s 124us/step - loss: 0.2306 - acc: 0.9364 - val_loss: 0.1119 - val_acc: 0.9706\n",
            "Epoch 4/50\n",
            "149500/300000 [=============>................] - ETA: 17s - loss: 0.1989 - acc: 0.9451"
          ],
          "name": "stdout"
        },
        {
          "output_type": "stream",
          "text": [
            "300000/300000 [==============================] - 37s 124us/step - loss: 0.1941 - acc: 0.9469 - val_loss: 0.0942 - val_acc: 0.9754\n",
            "Epoch 5/50\n",
            "163000/300000 [===============>..............] - ETA: 15s - loss: 0.1761 - acc: 0.9522"
          ],
          "name": "stdout"
        },
        {
          "output_type": "stream",
          "text": [
            "300000/300000 [==============================] - 37s 123us/step - loss: 0.1721 - acc: 0.9535 - val_loss: 0.0890 - val_acc: 0.9763\n",
            "Epoch 6/50\n",
            "168000/300000 [===============>..............] - ETA: 15s - loss: 0.1596 - acc: 0.9570"
          ],
          "name": "stdout"
        },
        {
          "output_type": "stream",
          "text": [
            "300000/300000 [==============================] - 37s 124us/step - loss: 0.1564 - acc: 0.9578 - val_loss: 0.0833 - val_acc: 0.9782\n",
            "Epoch 7/50\n",
            "170000/300000 [================>.............] - ETA: 15s - loss: 0.1443 - acc: 0.9615"
          ],
          "name": "stdout"
        },
        {
          "output_type": "stream",
          "text": [
            "300000/300000 [==============================] - 37s 124us/step - loss: 0.1448 - acc: 0.9617 - val_loss: 0.0800 - val_acc: 0.9790\n",
            "Epoch 8/50\n",
            "171000/300000 [================>.............] - ETA: 15s - loss: 0.1360 - acc: 0.9636"
          ],
          "name": "stdout"
        },
        {
          "output_type": "stream",
          "text": [
            "300000/300000 [==============================] - 37s 124us/step - loss: 0.1359 - acc: 0.9639 - val_loss: 0.0748 - val_acc: 0.9803\n",
            "Epoch 9/50\n",
            "171000/300000 [================>.............] - ETA: 15s - loss: 0.1284 - acc: 0.9656"
          ],
          "name": "stdout"
        },
        {
          "output_type": "stream",
          "text": [
            "300000/300000 [==============================] - 37s 124us/step - loss: 0.1276 - acc: 0.9660 - val_loss: 0.0777 - val_acc: 0.9805\n",
            "Epoch 10/50\n",
            "170500/300000 [================>.............] - ETA: 15s - loss: 0.1209 - acc: 0.9683"
          ],
          "name": "stdout"
        },
        {
          "output_type": "stream",
          "text": [
            "300000/300000 [==============================] - 37s 124us/step - loss: 0.1208 - acc: 0.9682 - val_loss: 0.0716 - val_acc: 0.9815\n",
            "Epoch 11/50\n",
            "170500/300000 [================>.............] - ETA: 15s - loss: 0.1173 - acc: 0.9690"
          ],
          "name": "stdout"
        },
        {
          "output_type": "stream",
          "text": [
            "300000/300000 [==============================] - 37s 124us/step - loss: 0.1152 - acc: 0.9694 - val_loss: 0.0702 - val_acc: 0.9819\n",
            "Epoch 12/50\n",
            "170500/300000 [================>.............] - ETA: 15s - loss: 0.1106 - acc: 0.9709"
          ],
          "name": "stdout"
        },
        {
          "output_type": "stream",
          "text": [
            "300000/300000 [==============================] - 37s 124us/step - loss: 0.1105 - acc: 0.9710 - val_loss: 0.0666 - val_acc: 0.9825\n",
            "Epoch 13/50\n",
            "170500/300000 [================>.............] - ETA: 15s - loss: 0.1079 - acc: 0.9712"
          ],
          "name": "stdout"
        },
        {
          "output_type": "stream",
          "text": [
            "300000/300000 [==============================] - 37s 123us/step - loss: 0.1065 - acc: 0.9716 - val_loss: 0.0645 - val_acc: 0.9831\n",
            "Epoch 14/50\n",
            "170500/300000 [================>.............] - ETA: 15s - loss: 0.1038 - acc: 0.9721"
          ],
          "name": "stdout"
        },
        {
          "output_type": "stream",
          "text": [
            "300000/300000 [==============================] - 37s 124us/step - loss: 0.1032 - acc: 0.9725 - val_loss: 0.0637 - val_acc: 0.9835\n",
            "Epoch 15/50\n",
            "170500/300000 [================>.............] - ETA: 15s - loss: 0.0998 - acc: 0.9736"
          ],
          "name": "stdout"
        },
        {
          "output_type": "stream",
          "text": [
            "300000/300000 [==============================] - 37s 124us/step - loss: 0.0984 - acc: 0.9738 - val_loss: 0.0637 - val_acc: 0.9837\n",
            "Epoch 16/50\n",
            "170500/300000 [================>.............] - ETA: 14s - loss: 0.0957 - acc: 0.9748"
          ],
          "name": "stdout"
        },
        {
          "output_type": "stream",
          "text": [
            "300000/300000 [==============================] - 37s 123us/step - loss: 0.0949 - acc: 0.9750 - val_loss: 0.0606 - val_acc: 0.9843\n",
            "Epoch 17/50\n",
            "170500/300000 [================>.............] - ETA: 15s - loss: 0.0916 - acc: 0.9761"
          ],
          "name": "stdout"
        },
        {
          "output_type": "stream",
          "text": [
            "300000/300000 [==============================] - 37s 124us/step - loss: 0.0917 - acc: 0.9759 - val_loss: 0.0593 - val_acc: 0.9848\n",
            "Epoch 18/50\n",
            "170500/300000 [================>.............] - ETA: 15s - loss: 0.0872 - acc: 0.9764"
          ],
          "name": "stdout"
        },
        {
          "output_type": "stream",
          "text": [
            "300000/300000 [==============================] - 37s 123us/step - loss: 0.0898 - acc: 0.9760 - val_loss: 0.0615 - val_acc: 0.9843\n",
            "Epoch 19/50\n",
            "170500/300000 [================>.............] - ETA: 15s - loss: 0.0863 - acc: 0.9771"
          ],
          "name": "stdout"
        },
        {
          "output_type": "stream",
          "text": [
            "300000/300000 [==============================] - 37s 124us/step - loss: 0.0868 - acc: 0.9770 - val_loss: 0.0589 - val_acc: 0.9851\n",
            "Epoch 20/50\n",
            "170500/300000 [================>.............] - ETA: 15s - loss: 0.0827 - acc: 0.9777"
          ],
          "name": "stdout"
        },
        {
          "output_type": "stream",
          "text": [
            "300000/300000 [==============================] - 37s 124us/step - loss: 0.0843 - acc: 0.9775 - val_loss: 0.0603 - val_acc: 0.9848\n",
            "Epoch 21/50\n",
            "170500/300000 [================>.............] - ETA: 15s - loss: 0.0841 - acc: 0.9779"
          ],
          "name": "stdout"
        },
        {
          "output_type": "stream",
          "text": [
            "300000/300000 [==============================] - 37s 124us/step - loss: 0.0824 - acc: 0.9781 - val_loss: 0.0569 - val_acc: 0.9856\n",
            "Epoch 22/50\n",
            "170500/300000 [================>.............] - ETA: 15s - loss: 0.0784 - acc: 0.9785"
          ],
          "name": "stdout"
        },
        {
          "output_type": "stream",
          "text": [
            "300000/300000 [==============================] - 38s 126us/step - loss: 0.0800 - acc: 0.9782 - val_loss: 0.0549 - val_acc: 0.9859\n",
            "Epoch 23/50\n",
            "170500/300000 [================>.............] - ETA: 15s - loss: 0.0789 - acc: 0.9788"
          ],
          "name": "stdout"
        },
        {
          "output_type": "stream",
          "text": [
            "300000/300000 [==============================] - 38s 126us/step - loss: 0.0779 - acc: 0.9789 - val_loss: 0.0555 - val_acc: 0.9861\n",
            "Epoch 24/50\n",
            "170500/300000 [================>.............] - ETA: 15s - loss: 0.0771 - acc: 0.9796"
          ],
          "name": "stdout"
        },
        {
          "output_type": "stream",
          "text": [
            "300000/300000 [==============================] - 38s 126us/step - loss: 0.0766 - acc: 0.9795 - val_loss: 0.0542 - val_acc: 0.9864\n",
            "Epoch 25/50\n",
            "170500/300000 [================>.............] - ETA: 15s - loss: 0.0747 - acc: 0.9799"
          ],
          "name": "stdout"
        },
        {
          "output_type": "stream",
          "text": [
            "300000/300000 [==============================] - 37s 125us/step - loss: 0.0748 - acc: 0.9798 - val_loss: 0.0532 - val_acc: 0.9865\n",
            "Epoch 26/50\n",
            "170500/300000 [================>.............] - ETA: 15s - loss: 0.0743 - acc: 0.9801"
          ],
          "name": "stdout"
        },
        {
          "output_type": "stream",
          "text": [
            "300000/300000 [==============================] - 38s 126us/step - loss: 0.0732 - acc: 0.9806 - val_loss: 0.0516 - val_acc: 0.9867\n",
            "Epoch 27/50\n",
            "170500/300000 [================>.............] - ETA: 15s - loss: 0.0702 - acc: 0.9806"
          ],
          "name": "stdout"
        },
        {
          "output_type": "stream",
          "text": [
            "300000/300000 [==============================] - 37s 125us/step - loss: 0.0709 - acc: 0.9809 - val_loss: 0.0514 - val_acc: 0.9871\n",
            "Epoch 28/50\n",
            "170500/300000 [================>.............] - ETA: 15s - loss: 0.0688 - acc: 0.9816"
          ],
          "name": "stdout"
        },
        {
          "output_type": "stream",
          "text": [
            "300000/300000 [==============================] - 38s 125us/step - loss: 0.0692 - acc: 0.9813 - val_loss: 0.0509 - val_acc: 0.9874\n",
            "Epoch 29/50\n",
            "170500/300000 [================>.............] - ETA: 15s - loss: 0.0685 - acc: 0.9813"
          ],
          "name": "stdout"
        },
        {
          "output_type": "stream",
          "text": [
            "300000/300000 [==============================] - 37s 125us/step - loss: 0.0683 - acc: 0.9815 - val_loss: 0.0507 - val_acc: 0.9875\n",
            "Epoch 30/50\n",
            "170500/300000 [================>.............] - ETA: 15s - loss: 0.0654 - acc: 0.9823"
          ],
          "name": "stdout"
        },
        {
          "output_type": "stream",
          "text": [
            "300000/300000 [==============================] - 37s 125us/step - loss: 0.0668 - acc: 0.9820 - val_loss: 0.0532 - val_acc: 0.9870\n",
            "Epoch 31/50\n",
            "170500/300000 [================>.............] - ETA: 15s - loss: 0.0664 - acc: 0.9822"
          ],
          "name": "stdout"
        },
        {
          "output_type": "stream",
          "text": [
            "300000/300000 [==============================] - 37s 124us/step - loss: 0.0660 - acc: 0.9820 - val_loss: 0.0501 - val_acc: 0.9875\n",
            "Epoch 32/50\n",
            "170500/300000 [================>.............] - ETA: 15s - loss: 0.0631 - acc: 0.9828"
          ],
          "name": "stdout"
        },
        {
          "output_type": "stream",
          "text": [
            "300000/300000 [==============================] - 37s 125us/step - loss: 0.0634 - acc: 0.9827 - val_loss: 0.0503 - val_acc: 0.9876\n",
            "Epoch 33/50\n",
            "170500/300000 [================>.............] - ETA: 15s - loss: 0.0624 - acc: 0.9826"
          ],
          "name": "stdout"
        },
        {
          "output_type": "stream",
          "text": [
            "300000/300000 [==============================] - 37s 125us/step - loss: 0.0631 - acc: 0.9828 - val_loss: 0.0483 - val_acc: 0.9876\n",
            "Epoch 34/50\n",
            "170500/300000 [================>.............] - ETA: 15s - loss: 0.0622 - acc: 0.9826"
          ],
          "name": "stdout"
        },
        {
          "output_type": "stream",
          "text": [
            "300000/300000 [==============================] - 37s 125us/step - loss: 0.0620 - acc: 0.9828 - val_loss: 0.0477 - val_acc: 0.9883\n",
            "Epoch 35/50\n",
            "170500/300000 [================>.............] - ETA: 15s - loss: 0.0602 - acc: 0.9839"
          ],
          "name": "stdout"
        },
        {
          "output_type": "stream",
          "text": [
            "300000/300000 [==============================] - 37s 124us/step - loss: 0.0612 - acc: 0.9835 - val_loss: 0.0456 - val_acc: 0.9886\n",
            "Epoch 36/50\n",
            "170500/300000 [================>.............] - ETA: 15s - loss: 0.0602 - acc: 0.9836"
          ],
          "name": "stdout"
        },
        {
          "output_type": "stream",
          "text": [
            "300000/300000 [==============================] - 37s 125us/step - loss: 0.0592 - acc: 0.9839 - val_loss: 0.0468 - val_acc: 0.9886\n",
            "Epoch 37/50\n",
            "170500/300000 [================>.............] - ETA: 15s - loss: 0.0582 - acc: 0.9844"
          ],
          "name": "stdout"
        },
        {
          "output_type": "stream",
          "text": [
            "300000/300000 [==============================] - 37s 125us/step - loss: 0.0579 - acc: 0.9842 - val_loss: 0.0474 - val_acc: 0.9887\n",
            "Epoch 38/50\n",
            "170500/300000 [================>.............] - ETA: 15s - loss: 0.0589 - acc: 0.9839"
          ],
          "name": "stdout"
        },
        {
          "output_type": "stream",
          "text": [
            "300000/300000 [==============================] - 37s 125us/step - loss: 0.0577 - acc: 0.9840 - val_loss: 0.0475 - val_acc: 0.9889\n",
            "Epoch 39/50\n",
            "170500/300000 [================>.............] - ETA: 15s - loss: 0.0561 - acc: 0.9847"
          ],
          "name": "stdout"
        },
        {
          "output_type": "stream",
          "text": [
            "300000/300000 [==============================] - 38s 125us/step - loss: 0.0564 - acc: 0.9846 - val_loss: 0.0453 - val_acc: 0.9891\n",
            "Epoch 40/50\n",
            "170500/300000 [================>.............] - ETA: 15s - loss: 0.0554 - acc: 0.9847"
          ],
          "name": "stdout"
        },
        {
          "output_type": "stream",
          "text": [
            "300000/300000 [==============================] - 37s 124us/step - loss: 0.0551 - acc: 0.9847 - val_loss: 0.0470 - val_acc: 0.9889\n",
            "Epoch 41/50\n",
            "170500/300000 [================>.............] - ETA: 15s - loss: 0.0553 - acc: 0.9847"
          ],
          "name": "stdout"
        },
        {
          "output_type": "stream",
          "text": [
            "300000/300000 [==============================] - 37s 124us/step - loss: 0.0551 - acc: 0.9847 - val_loss: 0.0447 - val_acc: 0.9888\n",
            "Epoch 42/50\n",
            "170500/300000 [================>.............] - ETA: 15s - loss: 0.0538 - acc: 0.9854"
          ],
          "name": "stdout"
        },
        {
          "output_type": "stream",
          "text": [
            "300000/300000 [==============================] - 37s 124us/step - loss: 0.0538 - acc: 0.9851 - val_loss: 0.0431 - val_acc: 0.9898\n",
            "Epoch 43/50\n",
            "170500/300000 [================>.............] - ETA: 15s - loss: 0.0514 - acc: 0.9859"
          ],
          "name": "stdout"
        },
        {
          "output_type": "stream",
          "text": [
            "300000/300000 [==============================] - 37s 125us/step - loss: 0.0523 - acc: 0.9857 - val_loss: 0.0437 - val_acc: 0.9893\n",
            "Epoch 44/50\n",
            "170500/300000 [================>.............] - ETA: 15s - loss: 0.0524 - acc: 0.9855"
          ],
          "name": "stdout"
        },
        {
          "output_type": "stream",
          "text": [
            "300000/300000 [==============================] - 38s 125us/step - loss: 0.0518 - acc: 0.9857 - val_loss: 0.0445 - val_acc: 0.9895\n",
            "Epoch 45/50\n",
            "170500/300000 [================>.............] - ETA: 15s - loss: 0.0505 - acc: 0.9864"
          ],
          "name": "stdout"
        },
        {
          "output_type": "stream",
          "text": [
            "300000/300000 [==============================] - 38s 126us/step - loss: 0.0503 - acc: 0.9863 - val_loss: 0.0420 - val_acc: 0.9899\n",
            "Epoch 46/50\n",
            "170500/300000 [================>.............] - ETA: 15s - loss: 0.0488 - acc: 0.9861"
          ],
          "name": "stdout"
        },
        {
          "output_type": "stream",
          "text": [
            "300000/300000 [==============================] - 38s 126us/step - loss: 0.0507 - acc: 0.9860 - val_loss: 0.0449 - val_acc: 0.9895\n",
            "Epoch 47/50\n",
            "170500/300000 [================>.............] - ETA: 15s - loss: 0.0484 - acc: 0.9869"
          ],
          "name": "stdout"
        },
        {
          "output_type": "stream",
          "text": [
            "300000/300000 [==============================] - 38s 125us/step - loss: 0.0487 - acc: 0.9866 - val_loss: 0.0433 - val_acc: 0.9896\n",
            "Epoch 48/50\n",
            "170500/300000 [================>.............] - ETA: 15s - loss: 0.0488 - acc: 0.9863"
          ],
          "name": "stdout"
        },
        {
          "output_type": "stream",
          "text": [
            "300000/300000 [==============================] - 38s 125us/step - loss: 0.0485 - acc: 0.9867 - val_loss: 0.0454 - val_acc: 0.9896\n",
            "Epoch 49/50\n",
            "170500/300000 [================>.............] - ETA: 15s - loss: 0.0467 - acc: 0.9868"
          ],
          "name": "stdout"
        },
        {
          "output_type": "stream",
          "text": [
            "300000/300000 [==============================] - 37s 124us/step - loss: 0.0481 - acc: 0.9866 - val_loss: 0.0428 - val_acc: 0.9902\n",
            "Epoch 50/50\n",
            "170500/300000 [================>.............] - ETA: 15s - loss: 0.0473 - acc: 0.9871"
          ],
          "name": "stdout"
        },
        {
          "output_type": "stream",
          "text": [
            "300000/300000 [==============================] - 37s 124us/step - loss: 0.0474 - acc: 0.9871 - val_loss: 0.0408 - val_acc: 0.9905\n"
          ],
          "name": "stdout"
        },
        {
          "output_type": "execute_result",
          "data": {
            "text/plain": [
              "<keras.callbacks.History at 0x7f95a50fb6d8>"
            ]
          },
          "metadata": {
            "tags": []
          },
          "execution_count": 13
        }
      ]
    }
  ]
}